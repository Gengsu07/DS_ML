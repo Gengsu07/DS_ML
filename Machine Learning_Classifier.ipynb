{
    "cells": [
        {
            "metadata": {},
            "cell_type": "code",
            "source": "import numpy as np\nimport pandas as pd\nimport seaborn as sns\nfrom sklearn import preprocessing\nfrom sklearn.metrics import jaccard_score\nfrom sklearn.metrics import f1_score\nfrom sklearn.metrics import log_loss\nfrom sklearn.metrics import accuracy_score",
            "execution_count": 1,
            "outputs": []
        },
        {
            "metadata": {},
            "cell_type": "code",
            "source": "loan = pd.read_csv('https://cf-courses-data.s3.us.cloud-object-storage.appdomain.cloud/IBMDeveloperSkillsNetwork-ML0101EN-SkillsNetwork/labs/FinalModule_Coursera/data/loan_train.csv',\n                  parse_dates=['due_date','effective_date'])",
            "execution_count": 2,
            "outputs": []
        },
        {
            "metadata": {},
            "cell_type": "code",
            "source": "loan.info()",
            "execution_count": 3,
            "outputs": [
                {
                    "output_type": "stream",
                    "text": "<class 'pandas.core.frame.DataFrame'>\nRangeIndex: 346 entries, 0 to 345\nData columns (total 10 columns):\n #   Column          Non-Null Count  Dtype         \n---  ------          --------------  -----         \n 0   Unnamed: 0      346 non-null    int64         \n 1   Unnamed: 0.1    346 non-null    int64         \n 2   loan_status     346 non-null    object        \n 3   Principal       346 non-null    int64         \n 4   terms           346 non-null    int64         \n 5   effective_date  346 non-null    datetime64[ns]\n 6   due_date        346 non-null    datetime64[ns]\n 7   age             346 non-null    int64         \n 8   education       346 non-null    object        \n 9   Gender          346 non-null    object        \ndtypes: datetime64[ns](2), int64(5), object(3)\nmemory usage: 27.2+ KB\n",
                    "name": "stdout"
                }
            ]
        },
        {
            "metadata": {},
            "cell_type": "code",
            "source": "loan['loan_status'].value_counts()",
            "execution_count": 4,
            "outputs": [
                {
                    "output_type": "execute_result",
                    "execution_count": 4,
                    "data": {
                        "text/plain": "PAIDOFF       260\nCOLLECTION     86\nName: loan_status, dtype: int64"
                    },
                    "metadata": {}
                }
            ]
        },
        {
            "metadata": {
                "scrolled": false
            },
            "cell_type": "code",
            "source": "loan.head()",
            "execution_count": 5,
            "outputs": [
                {
                    "output_type": "execute_result",
                    "execution_count": 5,
                    "data": {
                        "text/plain": "   Unnamed: 0  Unnamed: 0.1 loan_status  Principal  terms effective_date  \\\n0           0             0     PAIDOFF       1000     30     2016-09-08   \n1           2             2     PAIDOFF       1000     30     2016-09-08   \n2           3             3     PAIDOFF       1000     15     2016-09-08   \n3           4             4     PAIDOFF       1000     30     2016-09-09   \n4           6             6     PAIDOFF       1000     30     2016-09-09   \n\n    due_date  age             education  Gender  \n0 2016-10-07   45  High School or Below    male  \n1 2016-10-07   33              Bechalor  female  \n2 2016-09-22   27               college    male  \n3 2016-10-08   28               college  female  \n4 2016-10-08   29               college    male  ",
                        "text/html": "<div>\n<style scoped>\n    .dataframe tbody tr th:only-of-type {\n        vertical-align: middle;\n    }\n\n    .dataframe tbody tr th {\n        vertical-align: top;\n    }\n\n    .dataframe thead th {\n        text-align: right;\n    }\n</style>\n<table border=\"1\" class=\"dataframe\">\n  <thead>\n    <tr style=\"text-align: right;\">\n      <th></th>\n      <th>Unnamed: 0</th>\n      <th>Unnamed: 0.1</th>\n      <th>loan_status</th>\n      <th>Principal</th>\n      <th>terms</th>\n      <th>effective_date</th>\n      <th>due_date</th>\n      <th>age</th>\n      <th>education</th>\n      <th>Gender</th>\n    </tr>\n  </thead>\n  <tbody>\n    <tr>\n      <th>0</th>\n      <td>0</td>\n      <td>0</td>\n      <td>PAIDOFF</td>\n      <td>1000</td>\n      <td>30</td>\n      <td>2016-09-08</td>\n      <td>2016-10-07</td>\n      <td>45</td>\n      <td>High School or Below</td>\n      <td>male</td>\n    </tr>\n    <tr>\n      <th>1</th>\n      <td>2</td>\n      <td>2</td>\n      <td>PAIDOFF</td>\n      <td>1000</td>\n      <td>30</td>\n      <td>2016-09-08</td>\n      <td>2016-10-07</td>\n      <td>33</td>\n      <td>Bechalor</td>\n      <td>female</td>\n    </tr>\n    <tr>\n      <th>2</th>\n      <td>3</td>\n      <td>3</td>\n      <td>PAIDOFF</td>\n      <td>1000</td>\n      <td>15</td>\n      <td>2016-09-08</td>\n      <td>2016-09-22</td>\n      <td>27</td>\n      <td>college</td>\n      <td>male</td>\n    </tr>\n    <tr>\n      <th>3</th>\n      <td>4</td>\n      <td>4</td>\n      <td>PAIDOFF</td>\n      <td>1000</td>\n      <td>30</td>\n      <td>2016-09-09</td>\n      <td>2016-10-08</td>\n      <td>28</td>\n      <td>college</td>\n      <td>female</td>\n    </tr>\n    <tr>\n      <th>4</th>\n      <td>6</td>\n      <td>6</td>\n      <td>PAIDOFF</td>\n      <td>1000</td>\n      <td>30</td>\n      <td>2016-09-09</td>\n      <td>2016-10-08</td>\n      <td>29</td>\n      <td>college</td>\n      <td>male</td>\n    </tr>\n  </tbody>\n</table>\n</div>"
                    },
                    "metadata": {}
                }
            ]
        },
        {
            "metadata": {},
            "cell_type": "markdown",
            "source": "## Weekend"
        },
        {
            "metadata": {},
            "cell_type": "code",
            "source": "loan['dayofweek'] = loan['effective_date'].dt.dayofweek",
            "execution_count": 6,
            "outputs": []
        },
        {
            "metadata": {},
            "cell_type": "code",
            "source": "loan['weekend'] = loan['dayofweek'].apply(lambda x : 1 if x>3 else 0)",
            "execution_count": 7,
            "outputs": []
        },
        {
            "metadata": {},
            "cell_type": "code",
            "source": "loan['Gender'].replace(['male','female'], value=[0,1], inplace=True)",
            "execution_count": 8,
            "outputs": []
        },
        {
            "metadata": {},
            "cell_type": "markdown",
            "source": "## Feature"
        },
        {
            "metadata": {},
            "cell_type": "code",
            "source": "feature = loan[['Principal','terms','age','Gender','weekend']]",
            "execution_count": 9,
            "outputs": []
        },
        {
            "metadata": {},
            "cell_type": "markdown",
            "source": "### Hot Encoding Education"
        },
        {
            "metadata": {},
            "cell_type": "code",
            "source": "feature = pd.concat([feature, pd.get_dummies(loan['education'])],axis=1)\nfeature.drop('Master or Above', axis=1, inplace=True)",
            "execution_count": 10,
            "outputs": []
        },
        {
            "metadata": {},
            "cell_type": "code",
            "source": "X = feature",
            "execution_count": 11,
            "outputs": []
        },
        {
            "metadata": {},
            "cell_type": "code",
            "source": "y = loan['loan_status']",
            "execution_count": 12,
            "outputs": []
        },
        {
            "metadata": {},
            "cell_type": "markdown",
            "source": "## Normalize Data"
        },
        {
            "metadata": {},
            "cell_type": "code",
            "source": "X = preprocessing.StandardScaler().fit(X).transform(X)",
            "execution_count": 13,
            "outputs": []
        },
        {
            "metadata": {},
            "cell_type": "markdown",
            "source": "# Model"
        },
        {
            "metadata": {},
            "cell_type": "markdown",
            "source": "### KNN"
        },
        {
            "metadata": {},
            "cell_type": "code",
            "source": "from sklearn.neighbors import KNeighborsClassifier\nfrom sklearn.model_selection import train_test_split\nfrom sklearn import metrics",
            "execution_count": 14,
            "outputs": []
        },
        {
            "metadata": {},
            "cell_type": "code",
            "source": "X_train, X_test, y_train, y_test = train_test_split(X, y, test_size=0.2, random_state=4)\nprint ('Train set:', X_train.shape,  y_train.shape)\nprint ('Test set:', X_test.shape,  y_test.shape)",
            "execution_count": 15,
            "outputs": [
                {
                    "output_type": "stream",
                    "text": "Train set: (276, 8) (276,)\nTest set: (70, 8) (70,)\n",
                    "name": "stdout"
                }
            ]
        },
        {
            "metadata": {},
            "cell_type": "code",
            "source": "Ks = 10\nmean_acc = np.zeros((Ks-1))\nstd_acc = np.zeros((Ks-1))\nfor n in range(1,Ks):\n    neigh = KNeighborsClassifier(n_neighbors=n).fit(X_train, y_train)\n    yhat = neigh.predict(X_test)\n    mean_acc[n-1] = metrics.accuracy_score(y_test, yhat)\n    std_acc[n-1]=np.std(yhat==y_test)/np.sqrt(yhat.shape[0])\n    print('K:{},mean_acc:{}'.format(n,mean_acc[n-1]))",
            "execution_count": 16,
            "outputs": [
                {
                    "output_type": "stream",
                    "text": "K:1,mean_acc:0.6428571428571429\nK:2,mean_acc:0.5857142857142857\nK:3,mean_acc:0.7428571428571429\nK:4,mean_acc:0.7\nK:5,mean_acc:0.7428571428571429\nK:6,mean_acc:0.7142857142857143\nK:7,mean_acc:0.8\nK:8,mean_acc:0.7571428571428571\nK:9,mean_acc:0.7428571428571429\n",
                    "name": "stdout"
                }
            ]
        },
        {
            "metadata": {},
            "cell_type": "markdown",
            "source": "#### best classifier N = 7"
        },
        {
            "metadata": {},
            "cell_type": "markdown",
            "source": "### Evaluation"
        },
        {
            "metadata": {},
            "cell_type": "code",
            "source": "neigh = KNeighborsClassifier(n_neighbors=7).fit(X_train, y_train)\nyhat = neigh.predict(X_test)",
            "execution_count": 23,
            "outputs": []
        },
        {
            "metadata": {},
            "cell_type": "code",
            "source": "print(jaccard_score(y_test, yhat, pos_label='COLLECTION'))\nprint(jaccard_score(y_test, yhat, pos_label='PAIDOFF'))",
            "execution_count": 24,
            "outputs": [
                {
                    "output_type": "stream",
                    "text": "0.36363636363636365\n0.7741935483870968\n",
                    "name": "stdout"
                }
            ]
        },
        {
            "metadata": {},
            "cell_type": "code",
            "source": "f1_score(y_test, yhat, average = 'weighted')",
            "execution_count": 25,
            "outputs": [
                {
                    "output_type": "execute_result",
                    "execution_count": 25,
                    "data": {
                        "text/plain": "0.8"
                    },
                    "metadata": {}
                }
            ]
        },
        {
            "metadata": {},
            "cell_type": "markdown",
            "source": "# Decision Tree"
        },
        {
            "metadata": {},
            "cell_type": "code",
            "source": "from sklearn.tree import DecisionTreeClassifier",
            "execution_count": 26,
            "outputs": []
        },
        {
            "metadata": {},
            "cell_type": "code",
            "source": "for n in range(1,10):\n    loan_tree = DecisionTreeClassifier(criterion='entropy', max_depth=n).fit(X_train, y_train)\n    loan_pred = loan_tree.predict(X_test)\n    print('K:{}--->{}'.format(n,accuracy_score(y_test, loan_pred)))",
            "execution_count": 27,
            "outputs": [
                {
                    "output_type": "stream",
                    "text": "K:1--->0.7857142857142857\nK:2--->0.7857142857142857\nK:3--->0.6142857142857143\nK:4--->0.6142857142857143\nK:5--->0.6428571428571429\nK:6--->0.7714285714285715\nK:7--->0.7571428571428571\nK:8--->0.7571428571428571\nK:9--->0.6571428571428571\n",
                    "name": "stdout"
                }
            ]
        },
        {
            "metadata": {},
            "cell_type": "markdown",
            "source": "### best depth = 1 or 2"
        },
        {
            "metadata": {},
            "cell_type": "markdown",
            "source": "### Evaluation"
        },
        {
            "metadata": {},
            "cell_type": "code",
            "source": "loan_tree = DecisionTreeClassifier(criterion='entropy', max_depth=2).fit(X_train, y_train)\nloan_pred = loan_tree.predict(X_test)",
            "execution_count": 68,
            "outputs": []
        },
        {
            "metadata": {},
            "cell_type": "code",
            "source": "print(jaccard_score(y_test, loan_pred,pos_label='COLLECTION'))\nprint(jaccard_score(y_test, loan_pred,pos_label='PAIDOFF'))",
            "execution_count": 69,
            "outputs": [
                {
                    "output_type": "stream",
                    "text": "0.0\n0.7857142857142857\n",
                    "name": "stdout"
                }
            ]
        },
        {
            "metadata": {},
            "cell_type": "code",
            "source": "f1_score(y_test, loan_pred, average='weighted')",
            "execution_count": 70,
            "outputs": [
                {
                    "output_type": "execute_result",
                    "execution_count": 70,
                    "data": {
                        "text/plain": "0.6914285714285714"
                    },
                    "metadata": {}
                }
            ]
        },
        {
            "metadata": {},
            "cell_type": "markdown",
            "source": "# SVM"
        },
        {
            "metadata": {},
            "cell_type": "code",
            "source": "from sklearn import svm",
            "execution_count": 71,
            "outputs": []
        },
        {
            "metadata": {},
            "cell_type": "code",
            "source": "clf = svm.SVC(kernel='rbf')\nclf.fit(X_train, y_train)",
            "execution_count": 72,
            "outputs": [
                {
                    "output_type": "execute_result",
                    "execution_count": 72,
                    "data": {
                        "text/plain": "SVC()"
                    },
                    "metadata": {}
                }
            ]
        },
        {
            "metadata": {},
            "cell_type": "code",
            "source": "yhat = clf.predict(X_test)",
            "execution_count": 73,
            "outputs": []
        },
        {
            "metadata": {},
            "cell_type": "markdown",
            "source": "### evaluation"
        },
        {
            "metadata": {},
            "cell_type": "code",
            "source": "print(jaccard_score(y_test, yhat, pos_label='COLLECTION'))\nprint(jaccard_score(y_test, yhat, pos_label='PAIDOFF'))",
            "execution_count": 74,
            "outputs": [
                {
                    "output_type": "stream",
                    "text": "0.18181818181818182\n0.7272727272727273\n",
                    "name": "stdout"
                }
            ]
        },
        {
            "metadata": {},
            "cell_type": "code",
            "source": "f1_score(y_test, yhat, average='weighted')",
            "execution_count": 75,
            "outputs": [
                {
                    "output_type": "execute_result",
                    "execution_count": 75,
                    "data": {
                        "text/plain": "0.7275882012724117"
                    },
                    "metadata": {}
                }
            ]
        },
        {
            "metadata": {},
            "cell_type": "markdown",
            "source": "# Logistic Regression"
        },
        {
            "metadata": {},
            "cell_type": "code",
            "source": "from sklearn.linear_model import LogisticRegression\nc = [100, 10, 1, 0.1, 0.01]\n\nfor k in c:\n    LR = LogisticRegression(C=k, solver='liblinear').fit(X_train, y_train)\n    yhat = LR.predict(X_test)\n    print('C:{},accuracy:{}'.format(k,accuracy_score(y_test, yhat)))",
            "execution_count": 109,
            "outputs": [
                {
                    "output_type": "stream",
                    "text": "C:100,accuracy:0.7142857142857143\nC:10,accuracy:0.7142857142857143\nC:1,accuracy:0.7142857142857143\nC:0.1,accuracy:0.7428571428571429\nC:0.01,accuracy:0.6857142857142857\n",
                    "name": "stdout"
                }
            ]
        },
        {
            "metadata": {},
            "cell_type": "markdown",
            "source": "### best C=0.1"
        },
        {
            "metadata": {},
            "cell_type": "code",
            "source": "LR = LogisticRegression(C=0.1, solver='liblinear').fit(X_train, y_train)\nyhat = LR.predict(X_test)\nyhat_prob = LR.predict_proba(X_test)\nyhat_prob[0:5]",
            "execution_count": 114,
            "outputs": [
                {
                    "output_type": "execute_result",
                    "execution_count": 114,
                    "data": {
                        "text/plain": "array([[0.51024982, 0.48975018],\n       [0.40295067, 0.59704933],\n       [0.0979815 , 0.9020185 ],\n       [0.12802981, 0.87197019],\n       [0.09898222, 0.90101778]])"
                    },
                    "metadata": {}
                }
            ]
        },
        {
            "metadata": {},
            "cell_type": "markdown",
            "source": "### evaluation"
        },
        {
            "metadata": {},
            "cell_type": "code",
            "source": "print(jaccard_score(y_test, yhat, pos_label='COLLECTION'))\nprint(jaccard_score(y_test, yhat, pos_label='PAIDOFF'))",
            "execution_count": 115,
            "outputs": [
                {
                    "output_type": "stream",
                    "text": "0.1\n0.7352941176470589\n",
                    "name": "stdout"
                }
            ]
        },
        {
            "metadata": {},
            "cell_type": "code",
            "source": "f1_score(y_test, yhat, average = 'weighted')",
            "execution_count": 116,
            "outputs": [
                {
                    "output_type": "execute_result",
                    "execution_count": 116,
                    "data": {
                        "text/plain": "0.7048206031256878"
                    },
                    "metadata": {}
                }
            ]
        }
    ],
    "metadata": {
        "kernelspec": {
            "name": "python3",
            "display_name": "Python 3.9",
            "language": "python"
        },
        "language_info": {
            "name": "python",
            "version": "3.9.12",
            "mimetype": "text/x-python",
            "codemirror_mode": {
                "name": "ipython",
                "version": 3
            },
            "pygments_lexer": "ipython3",
            "nbconvert_exporter": "python",
            "file_extension": ".py"
        }
    },
    "nbformat": 4,
    "nbformat_minor": 1
}